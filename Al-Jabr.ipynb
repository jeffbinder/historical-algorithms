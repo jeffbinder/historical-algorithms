{
 "cells": [
  {
   "cell_type": "code",
   "execution_count": 1,
   "metadata": {},
   "outputs": [],
   "source": [
    "from math import *"
   ]
  },
  {
   "attachments": {},
   "cell_type": "markdown",
   "metadata": {},
   "source": [
    "When ø is equal to ϑ and ʒ, ø and ϑ must be divided by ʒ, ϑ halved, the half drawn into itself, the product added to the number.  The radix of the aggregated whole minus half ϑ reveals what is sought."
   ]
  },
  {
   "cell_type": "code",
   "execution_count": 15,
   "metadata": {},
   "outputs": [],
   "source": [
    "def check(ø, theta, ezh, res):\n",
    "    print('{0}x**2 + {1}x = {2}'.format(ezh, theta, ø))\n",
    "    print('{0}({2})**2 + {1}({2}) = {3}'.format(ezh, theta, res, ezh * res**2 + theta*res))"
   ]
  },
  {
   "cell_type": "code",
   "execution_count": 26,
   "metadata": {},
   "outputs": [],
   "source": [
    "def find_res(ø, theta, ezh):\n",
    "    ø /= ezh\n",
    "    theta /= ezh\n",
    "    half_theta = theta / 2\n",
    "    product = half_theta ** 2\n",
    "    aggregated_whole = product + ø\n",
    "    radix = sqrt(aggregated_whole)\n",
    "    return radix - half_theta"
   ]
  },
  {
   "cell_type": "code",
   "execution_count": 21,
   "metadata": {},
   "outputs": [],
   "source": [
    "def find_res(ø, theta, ezh):\n",
    "    return sqrt((theta/(2*ezh))**2 + ø/ezh) - theta/(2*ezh)"
   ]
  },
  {
   "cell_type": "code",
   "execution_count": 27,
   "metadata": {},
   "outputs": [
    {
     "name": "stdout",
     "output_type": "stream",
     "text": [
      "3x**2 + 2.1x = 1\n",
      "3(0.3251543033509698)**2 + 2.1(0.3251543033509698) = 1.0\n"
     ]
    }
   ],
   "source": [
    "res = find_res(1, 2.1, 3)\n",
    "check(1, 2.1, 3, res)"
   ]
  }
 ],
 "metadata": {
  "kernelspec": {
   "display_name": "Python 3",
   "language": "python",
   "name": "python3"
  },
  "language_info": {
   "codemirror_mode": {
    "name": "ipython",
    "version": 3
   },
   "file_extension": ".py",
   "mimetype": "text/x-python",
   "name": "python",
   "nbconvert_exporter": "python",
   "pygments_lexer": "ipython3",
   "version": "3.6.4"
  }
 },
 "nbformat": 4,
 "nbformat_minor": 2
}
