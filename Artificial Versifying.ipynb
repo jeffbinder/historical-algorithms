{
 "cells": [
  {
   "cell_type": "code",
   "execution_count": 3,
   "metadata": {},
   "outputs": [],
   "source": [
    "hexameter_tables_orig = {1 : \"isatthtppmosuroueeprprirrsridebsrpsfairitiiii dadidamdba aaa aab b   b  \",\n",
    "                         2 : \"dffbivvddiaaeuoeoacctlrtrnmttalaabanaa a  a a  b bi b  \",\n",
    "                         3 : \"mtivmvrasiiniaielchbqrldoiiiiuoierio  a ss s brmb  b  rb  \",\n",
    "                         4 : \"ppmppccpcrrooraoroæonrounondcstmscdfiutaiaeuicrrbtbdcruaautuuumnnbnunnnattutntttn  n t   tbbtr brb bb  \",\n",
    "                         5 : \"sspfctdipioiœreouodmgdimgrcennempmguriorioailaaranrtaa  a aaa  br b   \",\n",
    "                         6 : \"mqctpspssuuealoreælærnalamptdttnavpeaaaue ae  m m b rrb b dbr \"}\n",
    "\n",
    "hexameter_tables_revised = {1 : \"tiphambleugeosaaufrnsrprrrfbesretbieiaiiriadrd mdaaraaaeaa  a   e  ee \",\n",
    "\t\t            2 : \"fsdbvscstaiaeiiacetgmlnssolannlcttra aaairrt e   aaaaeeeee    \",\n",
    "\t\t            3 : \"sfptdpppfeoauoauaeqrtimttlruiisieoauis   t mn  sst t tsttssttt \",\n",
    "\t\t            4 : \"pppppmcpprrroroarræooronuæomrmtdssnmoiieutaaunttncrbrlsatduaurgtnuunbnaartnntntnna tt n ttnt  sts  tssts sts \",\n",
    "\t\t            5 : \"tppvlfacseoreuægrimcærmdmidpulbieimeolienrnerraaraaanaa  a   a  ee eee \",\n",
    "\t\t            6 : \"dsqapmdnsuæueruiiærpæealrgvaedrvtara  abaa a eema  e eee  \"};\n",
    "\n",
    "pentameter_tables = {1 : \"tapisittneremomruotdrprpirxrufrdispiiaioiatiac dbd ia aeaaaea e e   e \",\n",
    "\t\t     2 : \"ppcppccsprroreooiræænærnngosscdfsgnctcliiuliuaruccmofrbiduimmiaubunuaecnnuntnnrattnt ttan  t s  ntss ssstt ststtss \",\n",
    "\t\t     3 : \"iavvdflaaucieiaarsrtnrecbmtaaabttrar   aaaa aeee    e \",\n",
    "\t\t     4 : \"dppncsmsmoureruoialdofuplnloetaeeeiisnennrssgadrdtbttn avaaaarae a    a ee eeee \",\n",
    "\t\t     5 : \"natvsmmvmoliiceaiivibrirldhaiiioaiei s s  ss e e ee  \"}"
   ]
  },
  {
   "cell_type": "code",
   "execution_count": 2,
   "metadata": {},
   "outputs": [],
   "source": [
    "def versify(digits, tables):\n",
    "    word_list = []\n",
    "    for i, digit in enumerate(digits):\n",
    "        table = tables[i+1]\n",
    "        word = \"\"\n",
    "        for j in range(int(digit) - 1, len(table), 9):\n",
    "            letter = table[j]\n",
    "            if letter == \" \":\n",
    "                break\n",
    "       \t    word += letter;\n",
    "        word_list.append(word)\n",
    "    return ' '.join(word_list)"
   ]
  },
  {
   "cell_type": "code",
   "execution_count": 4,
   "metadata": {},
   "outputs": [
    {
     "name": "stdout",
     "output_type": "stream",
     "text": [
      "impia facta inquam portabunt crimina sola\n"
     ]
    }
   ],
   "source": [
    "print(versify('123456', hexameter_tables_orig))"
   ]
  }
 ],
 "metadata": {
  "kernelspec": {
   "display_name": "Python 3",
   "language": "python",
   "name": "python3"
  },
  "language_info": {
   "codemirror_mode": {
    "name": "ipython",
    "version": 3
   },
   "file_extension": ".py",
   "mimetype": "text/x-python",
   "name": "python",
   "nbconvert_exporter": "python",
   "pygments_lexer": "ipython3",
   "version": "3.6.4"
  }
 },
 "nbformat": 4,
 "nbformat_minor": 2
}
